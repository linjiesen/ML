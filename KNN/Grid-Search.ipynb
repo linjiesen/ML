{
 "cells": [
  {
   "cell_type": "code",
   "execution_count": 1,
   "metadata": {},
   "outputs": [],
   "source": [
    "import numpy as np\n",
    "from sklearn import datasets"
   ]
  },
  {
   "cell_type": "code",
   "execution_count": 2,
   "metadata": {},
   "outputs": [],
   "source": [
    "digits = datasets.load_digits()\n",
    "X = digits.data\n",
    "y = digits.target"
   ]
  },
  {
   "cell_type": "code",
   "execution_count": 3,
   "metadata": {},
   "outputs": [],
   "source": [
    "from sklearn.model_selection import train_test_split\n",
    "\n",
    "X_train, X_test, y_train, y_test = train_test_split(X, y, test_size=0.2, random_state=666)"
   ]
  },
  {
   "cell_type": "code",
   "execution_count": 19,
   "metadata": {},
   "outputs": [
    {
     "name": "stdout",
     "output_type": "stream",
     "text": [
      "CPU times: user 92 ms, sys: 0 ns, total: 92 ms\n",
      "Wall time: 96.1 ms\n"
     ]
    }
   ],
   "source": [
    "%%time\n",
    "from sklearn.neighbors import KNeighborsClassifier\n",
    "\n",
    "sk_knn_clf = KNeighborsClassifier(n_neighbors=4, weights=\"uniform\")\n",
    "sk_knn_clf.fit(X_train, y_train)\n",
    "sk_knn_clf.score(X_test, y_test)"
   ]
  },
  {
   "cell_type": "markdown",
   "metadata": {},
   "source": [
    "# Grid Search"
   ]
  },
  {
   "cell_type": "code",
   "execution_count": 14,
   "metadata": {},
   "outputs": [],
   "source": [
    "param_grid = [\n",
    "    {\n",
    "        'weights':['uniform'],\n",
    "        'n_neighbors':[i for i in range(1, 11)]\n",
    "    },\n",
    "    {\n",
    "        'weights':['distance'],\n",
    "        'n_neighbors':[i for i in range(1, 11)],\n",
    "        'p': [i for i in range(1, 6)]\n",
    "    }\n",
    "]"
   ]
  },
  {
   "cell_type": "code",
   "execution_count": 15,
   "metadata": {},
   "outputs": [],
   "source": [
    "knn_clf = KNeighborsClassifier()"
   ]
  },
  {
   "cell_type": "code",
   "execution_count": 16,
   "metadata": {},
   "outputs": [],
   "source": [
    "from sklearn.model_selection import GridSearchCV\n",
    "\n",
    "grid_search = GridSearchCV(knn_clf, param_grid)"
   ]
  },
  {
   "cell_type": "code",
   "execution_count": 17,
   "metadata": {},
   "outputs": [
    {
     "name": "stdout",
     "output_type": "stream",
     "text": [
      "CPU times: user 6min 5s, sys: 0 ns, total: 6min 5s\n",
      "Wall time: 6min 5s\n"
     ]
    },
    {
     "data": {
      "text/plain": [
       "GridSearchCV(cv=None, error_score='raise',\n",
       "       estimator=KNeighborsClassifier(algorithm='auto', leaf_size=30, metric='minkowski',\n",
       "           metric_params=None, n_jobs=1, n_neighbors=5, p=2,\n",
       "           weights='uniform'),\n",
       "       fit_params=None, iid=True, n_jobs=1,\n",
       "       param_grid=[{'weights': ['uniform'], 'n_neighbors': [1, 2, 3, 4, 5, 6, 7, 8, 9, 10]}, {'weights': ['distance'], 'p': [1, 2, 3, 4, 5], 'n_neighbors': [1, 2, 3, 4, 5, 6, 7, 8, 9, 10]}],\n",
       "       pre_dispatch='2*n_jobs', refit=True, return_train_score='warn',\n",
       "       scoring=None, verbose=0)"
      ]
     },
     "execution_count": 17,
     "metadata": {},
     "output_type": "execute_result"
    }
   ],
   "source": [
    "%%time\n",
    "grid_search.fit(X_train, y_train)"
   ]
  },
  {
   "cell_type": "code",
   "execution_count": 18,
   "metadata": {},
   "outputs": [
    {
     "data": {
      "text/plain": [
       "KNeighborsClassifier(algorithm='auto', leaf_size=30, metric='minkowski',\n",
       "           metric_params=None, n_jobs=1, n_neighbors=3, p=3,\n",
       "           weights='distance')"
      ]
     },
     "execution_count": 18,
     "metadata": {},
     "output_type": "execute_result"
    }
   ],
   "source": [
    "grid_search.best_estimator_"
   ]
  },
  {
   "cell_type": "code",
   "execution_count": 20,
   "metadata": {},
   "outputs": [
    {
     "data": {
      "text/plain": [
       "0.9853862212943633"
      ]
     },
     "execution_count": 20,
     "metadata": {},
     "output_type": "execute_result"
    }
   ],
   "source": [
    "grid_search.best_score_"
   ]
  },
  {
   "cell_type": "code",
   "execution_count": 21,
   "metadata": {},
   "outputs": [
    {
     "data": {
      "text/plain": [
       "{'n_neighbors': 3, 'p': 3, 'weights': 'distance'}"
      ]
     },
     "execution_count": 21,
     "metadata": {},
     "output_type": "execute_result"
    }
   ],
   "source": [
    "grid_search.best_params_"
   ]
  },
  {
   "cell_type": "code",
   "execution_count": 22,
   "metadata": {},
   "outputs": [],
   "source": [
    "knn_clf = grid_search.best_estimator_"
   ]
  },
  {
   "cell_type": "code",
   "execution_count": 23,
   "metadata": {},
   "outputs": [
    {
     "data": {
      "text/plain": [
       "array([8, 1, 3, 4, 4, 0, 7, 0, 8, 0, 4, 6, 1, 1, 2, 0, 1, 6, 7, 3, 3, 6,\n",
       "       5, 2, 9, 4, 0, 2, 0, 3, 0, 8, 7, 2, 3, 5, 1, 3, 1, 5, 8, 6, 2, 6,\n",
       "       3, 1, 3, 0, 0, 4, 9, 9, 2, 8, 7, 0, 5, 4, 0, 9, 5, 5, 8, 7, 4, 2,\n",
       "       8, 8, 7, 5, 4, 3, 0, 2, 7, 2, 1, 2, 4, 0, 9, 0, 6, 6, 2, 0, 0, 5,\n",
       "       4, 4, 3, 1, 3, 8, 6, 4, 4, 7, 5, 6, 8, 4, 8, 4, 6, 9, 7, 7, 0, 8,\n",
       "       8, 3, 9, 7, 1, 8, 4, 2, 7, 0, 0, 4, 9, 6, 7, 3, 4, 6, 4, 8, 4, 7,\n",
       "       2, 6, 9, 5, 8, 7, 2, 5, 5, 9, 7, 9, 3, 1, 9, 4, 4, 1, 5, 1, 6, 4,\n",
       "       4, 8, 1, 6, 2, 5, 2, 1, 4, 4, 3, 9, 4, 0, 6, 0, 8, 3, 8, 7, 3, 0,\n",
       "       3, 0, 5, 9, 2, 7, 1, 8, 1, 4, 3, 3, 7, 8, 2, 7, 2, 2, 8, 0, 5, 7,\n",
       "       6, 7, 3, 4, 7, 1, 7, 0, 9, 2, 8, 9, 3, 8, 9, 1, 1, 1, 9, 8, 8, 0,\n",
       "       3, 7, 3, 3, 4, 8, 2, 1, 8, 6, 0, 1, 7, 7, 5, 8, 3, 8, 7, 6, 8, 4,\n",
       "       2, 6, 2, 3, 7, 4, 9, 3, 5, 0, 6, 3, 8, 3, 3, 1, 4, 5, 3, 2, 5, 6,\n",
       "       9, 6, 9, 5, 5, 3, 6, 5, 9, 3, 7, 7, 0, 2, 4, 9, 9, 9, 2, 5, 6, 1,\n",
       "       9, 6, 9, 7, 7, 4, 5, 0, 0, 5, 3, 8, 4, 4, 3, 2, 5, 3, 2, 2, 3, 0,\n",
       "       9, 8, 2, 1, 4, 0, 6, 2, 8, 0, 6, 4, 9, 9, 8, 3, 9, 8, 6, 3, 2, 7,\n",
       "       9, 4, 2, 7, 5, 1, 1, 6, 1, 0, 4, 9, 2, 9, 0, 3, 3, 0, 7, 4, 8, 5,\n",
       "       9, 5, 9, 5, 0, 7, 9, 8])"
      ]
     },
     "execution_count": 23,
     "metadata": {},
     "output_type": "execute_result"
    }
   ],
   "source": [
    "knn_clf.predict(X_test)"
   ]
  },
  {
   "cell_type": "code",
   "execution_count": 24,
   "metadata": {},
   "outputs": [
    {
     "data": {
      "text/plain": [
       "0.9833333333333333"
      ]
     },
     "execution_count": 24,
     "metadata": {},
     "output_type": "execute_result"
    }
   ],
   "source": [
    "knn_clf.score(X_test, y_test)"
   ]
  },
  {
   "cell_type": "code",
   "execution_count": 25,
   "metadata": {},
   "outputs": [
    {
     "name": "stdout",
     "output_type": "stream",
     "text": [
      "Fitting 3 folds for each of 60 candidates, totalling 180 fits\n",
      "[CV] weights=uniform, n_neighbors=1 ..................................\n",
      "[CV] weights=uniform, n_neighbors=1 ..................................\n",
      "[CV] weights=uniform, n_neighbors=1 ..................................\n",
      "[CV] weights=uniform, n_neighbors=2 ..................................\n",
      "[CV] ................... weights=uniform, n_neighbors=1, total=   2.1s\n",
      "[CV] weights=uniform, n_neighbors=2 ..................................\n",
      "[CV] ................... weights=uniform, n_neighbors=1, total=   2.6s\n",
      "[CV] weights=uniform, n_neighbors=2 ..................................\n",
      "[CV] ................... weights=uniform, n_neighbors=1, total=   2.7s\n",
      "[CV] weights=uniform, n_neighbors=3 ..................................\n",
      "[CV] ................... weights=uniform, n_neighbors=2, total=   3.0s\n",
      "[CV] weights=uniform, n_neighbors=3 ..................................\n",
      "[CV] ................... weights=uniform, n_neighbors=2, total=   2.9s\n",
      "[CV] weights=uniform, n_neighbors=3 ..................................\n",
      "[CV] ................... weights=uniform, n_neighbors=2, total=   2.6s\n",
      "[CV] weights=uniform, n_neighbors=4 ..................................\n",
      "[CV] ................... weights=uniform, n_neighbors=3, total=   2.8s\n",
      "[CV] weights=uniform, n_neighbors=4 ..................................\n",
      "[CV] ................... weights=uniform, n_neighbors=3, total=   2.9s\n",
      "[CV] weights=uniform, n_neighbors=4 ..................................\n",
      "[CV] ................... weights=uniform, n_neighbors=3, total=   2.7s\n",
      "[CV] weights=uniform, n_neighbors=5 ..................................\n",
      "[CV] ................... weights=uniform, n_neighbors=4, total=   2.7s\n",
      "[CV] weights=uniform, n_neighbors=5 ..................................\n",
      "[CV] ................... weights=uniform, n_neighbors=4, total=   2.4s\n",
      "[CV] weights=uniform, n_neighbors=5 ..................................\n",
      "[CV] ................... weights=uniform, n_neighbors=4, total=   2.5s\n",
      "[CV] weights=uniform, n_neighbors=6 ..................................\n",
      "[CV] ................... weights=uniform, n_neighbors=5, total=   3.0s\n",
      "[CV] weights=uniform, n_neighbors=6 ..................................\n",
      "[CV] ................... weights=uniform, n_neighbors=5, total=   2.7s\n",
      "[CV] weights=uniform, n_neighbors=6 ..................................\n",
      "[CV] ................... weights=uniform, n_neighbors=5, total=   2.4s\n",
      "[CV] weights=uniform, n_neighbors=7 ..................................\n",
      "[CV] ................... weights=uniform, n_neighbors=6, total=   2.6s\n",
      "[CV] weights=uniform, n_neighbors=7 ..................................\n",
      "[CV] ................... weights=uniform, n_neighbors=6, total=   2.8s\n",
      "[CV] weights=uniform, n_neighbors=7 ..................................\n",
      "[CV] ................... weights=uniform, n_neighbors=6, total=   2.8s\n",
      "[CV] weights=uniform, n_neighbors=8 ..................................\n",
      "[CV] ................... weights=uniform, n_neighbors=7, total=   2.9s\n",
      "[CV] weights=uniform, n_neighbors=8 ..................................\n",
      "[CV] ................... weights=uniform, n_neighbors=7, total=   3.0s\n",
      "[CV] weights=uniform, n_neighbors=8 ..................................\n",
      "[CV] ................... weights=uniform, n_neighbors=7, total=   2.7s\n",
      "[CV] weights=uniform, n_neighbors=9 ..................................\n",
      "[CV] ................... weights=uniform, n_neighbors=8, total=   2.9s\n",
      "[CV] weights=uniform, n_neighbors=9 ..................................\n",
      "[CV] ................... weights=uniform, n_neighbors=8, total=   3.1s\n",
      "[CV] weights=uniform, n_neighbors=9 ..................................\n",
      "[CV] ................... weights=uniform, n_neighbors=8, total=   3.0s\n",
      "[CV] weights=uniform, n_neighbors=10 .................................\n",
      "[CV] ................... weights=uniform, n_neighbors=9, total=   2.9s\n",
      "[CV] weights=uniform, n_neighbors=10 .................................\n",
      "[CV] ................... weights=uniform, n_neighbors=9, total=   3.0s\n",
      "[CV] weights=uniform, n_neighbors=10 .................................\n",
      "[CV] ................... weights=uniform, n_neighbors=9, total=   2.9s\n",
      "[CV] weights=distance, p=1, n_neighbors=1 ............................\n",
      "[CV] ............. weights=distance, p=1, n_neighbors=1, total=   0.2s\n",
      "[CV] weights=distance, p=1, n_neighbors=1 ............................\n",
      "[CV] ............. weights=distance, p=1, n_neighbors=1, total=   0.2s\n",
      "[CV] weights=distance, p=1, n_neighbors=1 ............................\n",
      "[CV] ............. weights=distance, p=1, n_neighbors=1, total=   0.2s\n",
      "[CV] weights=distance, p=2, n_neighbors=1 ............................\n",
      "[CV] ............. weights=distance, p=2, n_neighbors=1, total=   0.2s\n",
      "[CV] weights=distance, p=2, n_neighbors=1 ............................\n",
      "[CV] ............. weights=distance, p=2, n_neighbors=1, total=   0.2s\n",
      "[CV] weights=distance, p=2, n_neighbors=1 ............................\n",
      "[CV] ............. weights=distance, p=2, n_neighbors=1, total=   0.2s\n",
      "[CV] weights=distance, p=3, n_neighbors=1 ............................\n"
     ]
    },
    {
     "name": "stderr",
     "output_type": "stream",
     "text": [
      "[Parallel(n_jobs=-1)]: Done  33 tasks      | elapsed:   54.2s\n"
     ]
    },
    {
     "name": "stdout",
     "output_type": "stream",
     "text": [
      "[CV] ............. weights=distance, p=3, n_neighbors=1, total=   2.7s\n",
      "[CV] weights=distance, p=3, n_neighbors=1 ............................\n",
      "[CV] .................. weights=uniform, n_neighbors=10, total=   3.0s\n",
      "[CV] weights=distance, p=3, n_neighbors=1 ............................\n",
      "[CV] .................. weights=uniform, n_neighbors=10, total=   3.2s\n",
      "[CV] weights=distance, p=4, n_neighbors=1 ............................\n",
      "[CV] ............. weights=distance, p=3, n_neighbors=1, total=   2.9s\n",
      "[CV] weights=distance, p=4, n_neighbors=1 ............................\n",
      "[CV] .................. weights=uniform, n_neighbors=10, total=   3.6s\n",
      "[CV] weights=distance, p=4, n_neighbors=1 ............................\n",
      "[CV] ............. weights=distance, p=3, n_neighbors=1, total=   2.3s\n",
      "[CV] weights=distance, p=5, n_neighbors=1 ............................\n",
      "[CV] ............. weights=distance, p=4, n_neighbors=1, total=   2.3s\n",
      "[CV] weights=distance, p=5, n_neighbors=1 ............................\n",
      "[CV] ............. weights=distance, p=4, n_neighbors=1, total=   2.0s\n",
      "[CV] weights=distance, p=5, n_neighbors=1 ............................\n",
      "[CV] ............. weights=distance, p=4, n_neighbors=1, total=   2.3s\n",
      "[CV] weights=distance, p=1, n_neighbors=2 ............................\n",
      "[CV] ............. weights=distance, p=1, n_neighbors=2, total=   0.2s\n",
      "[CV] weights=distance, p=1, n_neighbors=2 ............................\n",
      "[CV] ............. weights=distance, p=1, n_neighbors=2, total=   0.2s\n",
      "[CV] weights=distance, p=1, n_neighbors=2 ............................\n",
      "[CV] ............. weights=distance, p=5, n_neighbors=1, total=   2.7s\n",
      "[CV] weights=distance, p=2, n_neighbors=2 ............................\n",
      "[CV] ............. weights=distance, p=2, n_neighbors=2, total=   0.1s\n",
      "[CV] weights=distance, p=2, n_neighbors=2 ............................\n",
      "[CV] ............. weights=distance, p=1, n_neighbors=2, total=   0.2s\n",
      "[CV] weights=distance, p=2, n_neighbors=2 ............................\n",
      "[CV] ............. weights=distance, p=2, n_neighbors=2, total=   0.2s\n",
      "[CV] weights=distance, p=3, n_neighbors=2 ............................\n",
      "[CV] ............. weights=distance, p=2, n_neighbors=2, total=   0.2s\n",
      "[CV] weights=distance, p=3, n_neighbors=2 ............................\n",
      "[CV] ............. weights=distance, p=5, n_neighbors=1, total=   2.4s\n",
      "[CV] weights=distance, p=3, n_neighbors=2 ............................\n",
      "[CV] ............. weights=distance, p=5, n_neighbors=1, total=   2.8s\n",
      "[CV] weights=distance, p=4, n_neighbors=2 ............................\n",
      "[CV] ............. weights=distance, p=3, n_neighbors=2, total=   2.3s\n",
      "[CV] weights=distance, p=4, n_neighbors=2 ............................\n",
      "[CV] ............. weights=distance, p=3, n_neighbors=2, total=   2.5s\n",
      "[CV] weights=distance, p=4, n_neighbors=2 ............................\n",
      "[CV] ............. weights=distance, p=3, n_neighbors=2, total=   2.7s\n",
      "[CV] weights=distance, p=5, n_neighbors=2 ............................\n",
      "[CV] ............. weights=distance, p=4, n_neighbors=2, total=   2.5s\n",
      "[CV] weights=distance, p=5, n_neighbors=2 ............................\n",
      "[CV] ............. weights=distance, p=4, n_neighbors=2, total=   2.1s\n",
      "[CV] weights=distance, p=5, n_neighbors=2 ............................\n",
      "[CV] ............. weights=distance, p=4, n_neighbors=2, total=   2.4s\n",
      "[CV] weights=distance, p=1, n_neighbors=3 ............................\n",
      "[CV] ............. weights=distance, p=1, n_neighbors=3, total=   0.1s\n",
      "[CV] weights=distance, p=1, n_neighbors=3 ............................\n",
      "[CV] ............. weights=distance, p=5, n_neighbors=2, total=   2.4s\n",
      "[CV] weights=distance, p=1, n_neighbors=3 ............................\n",
      "[CV] ............. weights=distance, p=5, n_neighbors=2, total=   2.4s\n",
      "[CV] weights=distance, p=2, n_neighbors=3 ............................\n",
      "[CV] ............. weights=distance, p=1, n_neighbors=3, total=   0.1s\n",
      "[CV] weights=distance, p=2, n_neighbors=3 ............................\n",
      "[CV] ............. weights=distance, p=1, n_neighbors=3, total=   0.1s\n",
      "[CV] weights=distance, p=2, n_neighbors=3 ............................\n",
      "[CV] ............. weights=distance, p=2, n_neighbors=3, total=   0.1s\n",
      "[CV] weights=distance, p=3, n_neighbors=3 ............................\n",
      "[CV] ............. weights=distance, p=2, n_neighbors=3, total=   0.1s\n",
      "[CV] weights=distance, p=3, n_neighbors=3 ............................\n",
      "[CV] ............. weights=distance, p=2, n_neighbors=3, total=   0.1s\n",
      "[CV] weights=distance, p=3, n_neighbors=3 ............................\n",
      "[CV] ............. weights=distance, p=5, n_neighbors=2, total=   2.2s\n",
      "[CV] weights=distance, p=4, n_neighbors=3 ............................\n",
      "[CV] ............. weights=distance, p=3, n_neighbors=3, total=   2.9s\n",
      "[CV] weights=distance, p=4, n_neighbors=3 ............................\n",
      "[CV] ............. weights=distance, p=3, n_neighbors=3, total=   3.1s\n",
      "[CV] weights=distance, p=4, n_neighbors=3 ............................\n",
      "[CV] ............. weights=distance, p=3, n_neighbors=3, total=   3.2s\n",
      "[CV] weights=distance, p=5, n_neighbors=3 ............................\n",
      "[CV] ............. weights=distance, p=4, n_neighbors=3, total=   3.2s\n",
      "[CV] weights=distance, p=5, n_neighbors=3 ............................\n",
      "[CV] ............. weights=distance, p=4, n_neighbors=3, total=   2.4s\n",
      "[CV] weights=distance, p=5, n_neighbors=3 ............................\n",
      "[CV] ............. weights=distance, p=4, n_neighbors=3, total=   2.5s\n",
      "[CV] weights=distance, p=1, n_neighbors=4 ............................\n",
      "[CV] ............. weights=distance, p=1, n_neighbors=4, total=   0.1s\n",
      "[CV] weights=distance, p=1, n_neighbors=4 ............................\n",
      "[CV] ............. weights=distance, p=5, n_neighbors=3, total=   2.7s\n",
      "[CV] weights=distance, p=1, n_neighbors=4 ............................\n",
      "[CV] ............. weights=distance, p=1, n_neighbors=4, total=   0.1s\n",
      "[CV] weights=distance, p=2, n_neighbors=4 ............................\n",
      "[CV] ............. weights=distance, p=2, n_neighbors=4, total=   0.1s\n",
      "[CV] weights=distance, p=2, n_neighbors=4 ............................\n",
      "[CV] ............. weights=distance, p=1, n_neighbors=4, total=   0.2s\n",
      "[CV] weights=distance, p=2, n_neighbors=4 ............................\n",
      "[CV] ............. weights=distance, p=2, n_neighbors=4, total=   0.1s\n",
      "[CV] weights=distance, p=3, n_neighbors=4 ............................\n",
      "[CV] ............. weights=distance, p=2, n_neighbors=4, total=   0.1s\n",
      "[CV] weights=distance, p=3, n_neighbors=4 ............................\n",
      "[CV] ............. weights=distance, p=5, n_neighbors=3, total=   2.6s\n",
      "[CV] weights=distance, p=3, n_neighbors=4 ............................\n",
      "[CV] ............. weights=distance, p=5, n_neighbors=3, total=   2.1s\n",
      "[CV] weights=distance, p=4, n_neighbors=4 ............................\n",
      "[CV] ............. weights=distance, p=3, n_neighbors=4, total=   3.7s\n",
      "[CV] weights=distance, p=4, n_neighbors=4 ............................\n",
      "[CV] ............. weights=distance, p=3, n_neighbors=4, total=   3.6s\n",
      "[CV] weights=distance, p=4, n_neighbors=4 ............................\n",
      "[CV] ............. weights=distance, p=3, n_neighbors=4, total=   2.6s\n",
      "[CV] weights=distance, p=5, n_neighbors=4 ............................\n",
      "[CV] ............. weights=distance, p=4, n_neighbors=4, total=   3.0s\n",
      "[CV] weights=distance, p=5, n_neighbors=4 ............................\n",
      "[CV] ............. weights=distance, p=4, n_neighbors=4, total=   2.9s\n",
      "[CV] weights=distance, p=5, n_neighbors=4 ............................\n",
      "[CV] ............. weights=distance, p=4, n_neighbors=4, total=   3.2s\n",
      "[CV] weights=distance, p=1, n_neighbors=5 ............................\n",
      "[CV] ............. weights=distance, p=1, n_neighbors=5, total=   0.2s\n",
      "[CV] weights=distance, p=1, n_neighbors=5 ............................\n",
      "[CV] ............. weights=distance, p=1, n_neighbors=5, total=   0.1s\n",
      "[CV] weights=distance, p=1, n_neighbors=5 ............................\n",
      "[CV] ............. weights=distance, p=1, n_neighbors=5, total=   0.3s\n",
      "[CV] weights=distance, p=2, n_neighbors=5 ............................\n",
      "[CV] ............. weights=distance, p=2, n_neighbors=5, total=   0.2s\n",
      "[CV] weights=distance, p=2, n_neighbors=5 ............................\n"
     ]
    },
    {
     "name": "stdout",
     "output_type": "stream",
     "text": [
      "[CV] ............. weights=distance, p=2, n_neighbors=5, total=   0.2s\n",
      "[CV] weights=distance, p=2, n_neighbors=5 ............................\n",
      "[CV] ............. weights=distance, p=2, n_neighbors=5, total=   0.2s\n",
      "[CV] weights=distance, p=3, n_neighbors=5 ............................\n",
      "[CV] ............. weights=distance, p=5, n_neighbors=4, total=   2.8s\n",
      "[CV] weights=distance, p=3, n_neighbors=5 ............................\n",
      "[CV] ............. weights=distance, p=5, n_neighbors=4, total=   2.7s\n",
      "[CV] weights=distance, p=3, n_neighbors=5 ............................\n",
      "[CV] ............. weights=distance, p=5, n_neighbors=4, total=   3.2s\n",
      "[CV] weights=distance, p=4, n_neighbors=5 ............................\n",
      "[CV] ............. weights=distance, p=3, n_neighbors=5, total=   3.9s\n",
      "[CV] weights=distance, p=4, n_neighbors=5 ............................\n",
      "[CV] ............. weights=distance, p=3, n_neighbors=5, total=   3.7s\n",
      "[CV] weights=distance, p=4, n_neighbors=5 ............................\n",
      "[CV] ............. weights=distance, p=3, n_neighbors=5, total=   3.5s\n",
      "[CV] weights=distance, p=5, n_neighbors=5 ............................\n",
      "[CV] ............. weights=distance, p=4, n_neighbors=5, total=   3.8s\n",
      "[CV] weights=distance, p=5, n_neighbors=5 ............................\n",
      "[CV] ............. weights=distance, p=4, n_neighbors=5, total=   4.1s\n",
      "[CV] weights=distance, p=5, n_neighbors=5 ............................\n",
      "[CV] ............. weights=distance, p=4, n_neighbors=5, total=   3.7s\n",
      "[CV] weights=distance, p=1, n_neighbors=6 ............................\n",
      "[CV] ............. weights=distance, p=1, n_neighbors=6, total=   0.2s\n",
      "[CV] weights=distance, p=1, n_neighbors=6 ............................\n",
      "[CV] ............. weights=distance, p=1, n_neighbors=6, total=   0.2s\n",
      "[CV] weights=distance, p=1, n_neighbors=6 ............................\n",
      "[CV] ............. weights=distance, p=5, n_neighbors=5, total=   3.3s\n",
      "[CV] weights=distance, p=2, n_neighbors=6 ............................\n",
      "[CV] ............. weights=distance, p=1, n_neighbors=6, total=   0.2s\n",
      "[CV] weights=distance, p=2, n_neighbors=6 ............................\n",
      "[CV] ............. weights=distance, p=2, n_neighbors=6, total=   0.1s\n",
      "[CV] weights=distance, p=2, n_neighbors=6 ............................\n",
      "[CV] ............. weights=distance, p=2, n_neighbors=6, total=   0.2s\n",
      "[CV] weights=distance, p=3, n_neighbors=6 ............................\n",
      "[CV] ............. weights=distance, p=2, n_neighbors=6, total=   0.3s\n",
      "[CV] weights=distance, p=3, n_neighbors=6 ............................\n",
      "[CV] ............. weights=distance, p=5, n_neighbors=5, total=   3.0s\n",
      "[CV] weights=distance, p=3, n_neighbors=6 ............................\n",
      "[CV] ............. weights=distance, p=5, n_neighbors=5, total=   3.7s\n",
      "[CV] weights=distance, p=4, n_neighbors=6 ............................\n",
      "[CV] ............. weights=distance, p=3, n_neighbors=6, total=   4.9s\n",
      "[CV] weights=distance, p=4, n_neighbors=6 ............................\n",
      "[CV] ............. weights=distance, p=3, n_neighbors=6, total=   5.2s\n",
      "[CV] weights=distance, p=4, n_neighbors=6 ............................\n",
      "[CV] ............. weights=distance, p=3, n_neighbors=6, total=   4.4s\n",
      "[CV] weights=distance, p=5, n_neighbors=6 ............................\n",
      "[CV] ............. weights=distance, p=4, n_neighbors=6, total=   3.2s\n",
      "[CV] weights=distance, p=5, n_neighbors=6 ............................\n",
      "[CV] ............. weights=distance, p=4, n_neighbors=6, total=   4.2s\n",
      "[CV] weights=distance, p=5, n_neighbors=6 ............................\n",
      "[CV] ............. weights=distance, p=4, n_neighbors=6, total=   4.2s\n",
      "[CV] weights=distance, p=1, n_neighbors=7 ............................\n",
      "[CV] ............. weights=distance, p=1, n_neighbors=7, total=   0.2s\n",
      "[CV] weights=distance, p=1, n_neighbors=7 ............................\n",
      "[CV] ............. weights=distance, p=1, n_neighbors=7, total=   0.2s\n",
      "[CV] weights=distance, p=1, n_neighbors=7 ............................\n",
      "[CV] ............. weights=distance, p=5, n_neighbors=6, total=   4.0s\n",
      "[CV] weights=distance, p=2, n_neighbors=7 ............................\n",
      "[CV] ............. weights=distance, p=1, n_neighbors=7, total=   0.2s\n",
      "[CV] weights=distance, p=2, n_neighbors=7 ............................\n",
      "[CV] ............. weights=distance, p=2, n_neighbors=7, total=   0.2s\n",
      "[CV] weights=distance, p=2, n_neighbors=7 ............................\n",
      "[CV] ............. weights=distance, p=2, n_neighbors=7, total=   0.2s\n",
      "[CV] weights=distance, p=3, n_neighbors=7 ............................\n",
      "[CV] ............. weights=distance, p=2, n_neighbors=7, total=   0.2s\n",
      "[CV] weights=distance, p=3, n_neighbors=7 ............................\n",
      "[CV] ............. weights=distance, p=5, n_neighbors=6, total=   3.6s\n",
      "[CV] weights=distance, p=3, n_neighbors=7 ............................\n",
      "[CV] ............. weights=distance, p=5, n_neighbors=6, total=   3.7s\n",
      "[CV] weights=distance, p=4, n_neighbors=7 ............................\n",
      "[CV] ............. weights=distance, p=3, n_neighbors=7, total=   3.7s\n",
      "[CV] weights=distance, p=4, n_neighbors=7 ............................\n",
      "[CV] ............. weights=distance, p=3, n_neighbors=7, total=   3.9s\n",
      "[CV] weights=distance, p=4, n_neighbors=7 ............................\n",
      "[CV] ............. weights=distance, p=3, n_neighbors=7, total=   3.9s\n",
      "[CV] weights=distance, p=5, n_neighbors=7 ............................\n",
      "[CV] ............. weights=distance, p=4, n_neighbors=7, total=   3.9s\n",
      "[CV] weights=distance, p=5, n_neighbors=7 ............................\n",
      "[CV] ............. weights=distance, p=4, n_neighbors=7, total=   3.8s\n",
      "[CV] weights=distance, p=5, n_neighbors=7 ............................\n",
      "[CV] ............. weights=distance, p=4, n_neighbors=7, total=   3.4s\n",
      "[CV] weights=distance, p=1, n_neighbors=8 ............................\n",
      "[CV] ............. weights=distance, p=1, n_neighbors=8, total=   0.1s\n",
      "[CV] weights=distance, p=1, n_neighbors=8 ............................\n",
      "[CV] ............. weights=distance, p=1, n_neighbors=8, total=   0.2s\n",
      "[CV] weights=distance, p=1, n_neighbors=8 ............................\n",
      "[CV] ............. weights=distance, p=1, n_neighbors=8, total=   0.2s\n",
      "[CV] weights=distance, p=2, n_neighbors=8 ............................\n",
      "[CV] ............. weights=distance, p=2, n_neighbors=8, total=   0.2s\n",
      "[CV] weights=distance, p=2, n_neighbors=8 ............................\n",
      "[CV] ............. weights=distance, p=2, n_neighbors=8, total=   0.2s\n",
      "[CV] weights=distance, p=2, n_neighbors=8 ............................\n",
      "[CV] ............. weights=distance, p=2, n_neighbors=8, total=   0.3s\n",
      "[CV] weights=distance, p=3, n_neighbors=8 ............................\n",
      "[CV] ............. weights=distance, p=5, n_neighbors=7, total=   3.7s\n",
      "[CV] weights=distance, p=3, n_neighbors=8 ............................\n",
      "[CV] ............. weights=distance, p=5, n_neighbors=7, total=   3.5s\n",
      "[CV] weights=distance, p=3, n_neighbors=8 ............................\n",
      "[CV] ............. weights=distance, p=5, n_neighbors=7, total=   4.0s\n",
      "[CV] weights=distance, p=4, n_neighbors=8 ............................\n",
      "[CV] ............. weights=distance, p=3, n_neighbors=8, total=   4.4s\n",
      "[CV] weights=distance, p=4, n_neighbors=8 ............................\n",
      "[CV] ............. weights=distance, p=3, n_neighbors=8, total=   3.7s\n",
      "[CV] weights=distance, p=4, n_neighbors=8 ............................\n",
      "[CV] ............. weights=distance, p=3, n_neighbors=8, total=   3.9s\n",
      "[CV] weights=distance, p=5, n_neighbors=8 ............................\n",
      "[CV] ............. weights=distance, p=4, n_neighbors=8, total=   3.6s\n",
      "[CV] weights=distance, p=5, n_neighbors=8 ............................\n",
      "[CV] ............. weights=distance, p=4, n_neighbors=8, total=   3.9s\n",
      "[CV] weights=distance, p=5, n_neighbors=8 ............................\n",
      "[CV] ............. weights=distance, p=4, n_neighbors=8, total=   3.7s\n",
      "[CV] weights=distance, p=1, n_neighbors=9 ............................\n",
      "[CV] ............. weights=distance, p=1, n_neighbors=9, total=   0.2s\n",
      "[CV] weights=distance, p=1, n_neighbors=9 ............................\n",
      "[CV] ............. weights=distance, p=1, n_neighbors=9, total=   0.2s\n",
      "[CV] weights=distance, p=1, n_neighbors=9 ............................\n"
     ]
    },
    {
     "name": "stdout",
     "output_type": "stream",
     "text": [
      "[CV] ............. weights=distance, p=1, n_neighbors=9, total=   0.3s\n",
      "[CV] weights=distance, p=2, n_neighbors=9 ............................\n",
      "[CV] ............. weights=distance, p=2, n_neighbors=9, total=   0.2s\n",
      "[CV] weights=distance, p=2, n_neighbors=9 ............................\n",
      "[CV] ............. weights=distance, p=5, n_neighbors=8, total=   4.6s\n",
      "[CV] weights=distance, p=2, n_neighbors=9 ............................\n",
      "[CV] ............. weights=distance, p=2, n_neighbors=9, total=   0.2s\n",
      "[CV] weights=distance, p=3, n_neighbors=9 ............................\n",
      "[CV] ............. weights=distance, p=2, n_neighbors=9, total=   0.2s\n",
      "[CV] weights=distance, p=3, n_neighbors=9 ............................\n"
     ]
    },
    {
     "name": "stderr",
     "output_type": "stream",
     "text": [
      "[Parallel(n_jobs=-1)]: Done 154 tasks      | elapsed:  3.8min\n"
     ]
    },
    {
     "name": "stdout",
     "output_type": "stream",
     "text": [
      "[CV] ............. weights=distance, p=5, n_neighbors=8, total=   3.8s\n",
      "[CV] weights=distance, p=3, n_neighbors=9 ............................\n",
      "[CV] ............. weights=distance, p=5, n_neighbors=8, total=   3.6s\n",
      "[CV] weights=distance, p=4, n_neighbors=9 ............................\n",
      "[CV] ............. weights=distance, p=3, n_neighbors=9, total=   4.1s\n",
      "[CV] weights=distance, p=4, n_neighbors=9 ............................\n",
      "[CV] ............. weights=distance, p=3, n_neighbors=9, total=   3.8s\n",
      "[CV] weights=distance, p=4, n_neighbors=9 ............................\n",
      "[CV] ............. weights=distance, p=3, n_neighbors=9, total=   4.0s\n",
      "[CV] weights=distance, p=5, n_neighbors=9 ............................\n",
      "[CV] ............. weights=distance, p=4, n_neighbors=9, total=   3.7s\n",
      "[CV] weights=distance, p=5, n_neighbors=9 ............................\n",
      "[CV] ............. weights=distance, p=4, n_neighbors=9, total=   3.7s\n",
      "[CV] weights=distance, p=5, n_neighbors=9 ............................\n",
      "[CV] ............. weights=distance, p=4, n_neighbors=9, total=   3.8s\n",
      "[CV] weights=distance, p=1, n_neighbors=10 ...........................\n",
      "[CV] ............ weights=distance, p=1, n_neighbors=10, total=   0.2s\n",
      "[CV] weights=distance, p=1, n_neighbors=10 ...........................\n",
      "[CV] ............ weights=distance, p=1, n_neighbors=10, total=   0.2s\n",
      "[CV] weights=distance, p=1, n_neighbors=10 ...........................\n",
      "[CV] ............ weights=distance, p=1, n_neighbors=10, total=   0.2s\n",
      "[CV] weights=distance, p=2, n_neighbors=10 ...........................\n",
      "[CV] ............ weights=distance, p=2, n_neighbors=10, total=   0.2s\n",
      "[CV] weights=distance, p=2, n_neighbors=10 ...........................\n",
      "[CV] ............. weights=distance, p=5, n_neighbors=9, total=   3.9s\n",
      "[CV] weights=distance, p=2, n_neighbors=10 ...........................\n",
      "[CV] ............ weights=distance, p=2, n_neighbors=10, total=   0.2s\n",
      "[CV] weights=distance, p=3, n_neighbors=10 ...........................\n",
      "[CV] ............ weights=distance, p=2, n_neighbors=10, total=   0.2s\n",
      "[CV] weights=distance, p=3, n_neighbors=10 ...........................\n",
      "[CV] ............. weights=distance, p=5, n_neighbors=9, total=   3.9s\n",
      "[CV] weights=distance, p=3, n_neighbors=10 ...........................\n",
      "[CV] ............. weights=distance, p=5, n_neighbors=9, total=   3.6s\n",
      "[CV] weights=distance, p=4, n_neighbors=10 ...........................\n",
      "[CV] ............ weights=distance, p=3, n_neighbors=10, total=   4.1s\n",
      "[CV] weights=distance, p=4, n_neighbors=10 ...........................\n",
      "[CV] ............ weights=distance, p=3, n_neighbors=10, total=   4.4s\n",
      "[CV] weights=distance, p=4, n_neighbors=10 ...........................\n",
      "[CV] ............ weights=distance, p=3, n_neighbors=10, total=   3.6s\n",
      "[CV] weights=distance, p=5, n_neighbors=10 ...........................\n",
      "[CV] ............ weights=distance, p=4, n_neighbors=10, total=   3.8s\n",
      "[CV] weights=distance, p=5, n_neighbors=10 ...........................\n",
      "[CV] ............ weights=distance, p=4, n_neighbors=10, total=   3.9s\n",
      "[CV] weights=distance, p=5, n_neighbors=10 ...........................\n",
      "[CV] ............ weights=distance, p=4, n_neighbors=10, total=   3.9s\n",
      "[CV] ............ weights=distance, p=5, n_neighbors=10, total=   3.9s\n",
      "[CV] ............ weights=distance, p=5, n_neighbors=10, total=   3.9s\n",
      "[CV] ............ weights=distance, p=5, n_neighbors=10, total=   2.9s\n",
      "CPU times: user 1.14 s, sys: 336 ms, total: 1.47 s\n",
      "Wall time: 4min 41s\n"
     ]
    },
    {
     "name": "stderr",
     "output_type": "stream",
     "text": [
      "[Parallel(n_jobs=-1)]: Done 180 out of 180 | elapsed:  4.7min finished\n"
     ]
    }
   ],
   "source": [
    "%%time\n",
    "grid_search = GridSearchCV(knn_clf, param_grid, n_jobs=-1, verbose=2)\n",
    "grid_search.fit(X_train, y_train)"
   ]
  },
  {
   "cell_type": "code",
   "execution_count": null,
   "metadata": {},
   "outputs": [],
   "source": []
  }
 ],
 "metadata": {
  "kernelspec": {
   "display_name": "Python 3",
   "language": "python",
   "name": "python3"
  },
  "language_info": {
   "codemirror_mode": {
    "name": "ipython",
    "version": 3
   },
   "file_extension": ".py",
   "mimetype": "text/x-python",
   "name": "python",
   "nbconvert_exporter": "python",
   "pygments_lexer": "ipython3",
   "version": "3.5.3"
  }
 },
 "nbformat": 4,
 "nbformat_minor": 2
}
