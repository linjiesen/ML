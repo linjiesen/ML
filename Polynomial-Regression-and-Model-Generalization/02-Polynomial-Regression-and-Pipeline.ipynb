{
 "cells": [
  {
   "cell_type": "markdown",
   "metadata": {},
   "source": [
    "# Polynomial Regression in scikit-learn and Pipeline"
   ]
  },
  {
   "cell_type": "code",
   "execution_count": 1,
   "metadata": {},
   "outputs": [],
   "source": [
    "import numpy as np\n",
    "import matplotlib.pyplot as plt"
   ]
  },
  {
   "cell_type": "code",
   "execution_count": 2,
   "metadata": {},
   "outputs": [],
   "source": [
    "x = np.random.uniform(-3, 3, size=100)\n",
    "X = x.reshape(-1, 1)\n",
    "y = 0.5 * x ** 2 + x + 2 + np.random.normal(0, 1, 100)"
   ]
  },
  {
   "cell_type": "code",
   "execution_count": 3,
   "metadata": {},
   "outputs": [],
   "source": [
    "?np.random.uniform"
   ]
  },
  {
   "cell_type": "code",
   "execution_count": 4,
   "metadata": {},
   "outputs": [
    {
     "data": {
      "text/plain": [
       "array([ 0.65158623, -1.12556293,  2.69159405, -1.8419411 , -1.66586348,\n",
       "        1.6577443 , -1.19026724, -1.26331149, -2.5471118 , -2.37833925,\n",
       "       -1.88322505,  2.15201144, -1.90377152, -0.68103427, -1.27661113,\n",
       "       -0.44223386,  0.09245574,  1.4293609 ,  0.87168626, -2.3058812 ,\n",
       "        1.33632332,  0.45631295, -2.35661663, -0.66697414,  0.6174641 ,\n",
       "       -0.00573177,  2.3302768 ,  1.43181247, -2.7608716 ,  1.96607577,\n",
       "        1.97823439, -2.02244331,  1.78020611, -1.62964801,  2.64157921,\n",
       "        0.96214339,  1.90003185, -1.90231923, -2.0679445 ,  2.85537346,\n",
       "       -2.27073957,  2.84822389,  0.3306454 ,  2.99438782, -2.7797186 ,\n",
       "        1.60674959,  0.17031559,  1.18285652, -2.5338701 , -0.60625623,\n",
       "       -0.46253104, -0.43203652, -1.25060181,  2.42065472,  2.99753723,\n",
       "        2.56231805, -1.70006753, -0.93474885, -2.06575298,  0.89472408,\n",
       "        2.95263327,  0.05224725,  1.24577525, -0.79280391,  2.10755845,\n",
       "       -2.08644582, -0.0696759 ,  2.63118767,  1.16771086, -0.50780764,\n",
       "       -0.81009061,  2.71613632,  2.65829042, -2.11417824,  1.16420919,\n",
       "       -2.63731214, -2.1644609 , -1.81942688,  0.80772927, -0.69597608,\n",
       "        1.44555399, -2.40372851,  0.14272489,  0.56868001,  0.71009246,\n",
       "        1.62633584, -1.08631934,  1.16427071, -2.78970296, -0.2631457 ,\n",
       "       -2.3123536 ,  2.67446717, -0.47421921,  0.97703226, -2.40308346,\n",
       "        2.65047739, -2.41841632, -0.32252394, -2.56417908,  0.30658215])"
      ]
     },
     "execution_count": 4,
     "metadata": {},
     "output_type": "execute_result"
    }
   ],
   "source": [
    "x"
   ]
  },
  {
   "cell_type": "code",
   "execution_count": 5,
   "metadata": {},
   "outputs": [
    {
     "data": {
      "text/plain": [
       "array([[ 0.65158623],\n",
       "       [-1.12556293],\n",
       "       [ 2.69159405],\n",
       "       [-1.8419411 ],\n",
       "       [-1.66586348],\n",
       "       [ 1.6577443 ],\n",
       "       [-1.19026724],\n",
       "       [-1.26331149],\n",
       "       [-2.5471118 ],\n",
       "       [-2.37833925],\n",
       "       [-1.88322505],\n",
       "       [ 2.15201144],\n",
       "       [-1.90377152],\n",
       "       [-0.68103427],\n",
       "       [-1.27661113],\n",
       "       [-0.44223386],\n",
       "       [ 0.09245574],\n",
       "       [ 1.4293609 ],\n",
       "       [ 0.87168626],\n",
       "       [-2.3058812 ],\n",
       "       [ 1.33632332],\n",
       "       [ 0.45631295],\n",
       "       [-2.35661663],\n",
       "       [-0.66697414],\n",
       "       [ 0.6174641 ],\n",
       "       [-0.00573177],\n",
       "       [ 2.3302768 ],\n",
       "       [ 1.43181247],\n",
       "       [-2.7608716 ],\n",
       "       [ 1.96607577],\n",
       "       [ 1.97823439],\n",
       "       [-2.02244331],\n",
       "       [ 1.78020611],\n",
       "       [-1.62964801],\n",
       "       [ 2.64157921],\n",
       "       [ 0.96214339],\n",
       "       [ 1.90003185],\n",
       "       [-1.90231923],\n",
       "       [-2.0679445 ],\n",
       "       [ 2.85537346],\n",
       "       [-2.27073957],\n",
       "       [ 2.84822389],\n",
       "       [ 0.3306454 ],\n",
       "       [ 2.99438782],\n",
       "       [-2.7797186 ],\n",
       "       [ 1.60674959],\n",
       "       [ 0.17031559],\n",
       "       [ 1.18285652],\n",
       "       [-2.5338701 ],\n",
       "       [-0.60625623],\n",
       "       [-0.46253104],\n",
       "       [-0.43203652],\n",
       "       [-1.25060181],\n",
       "       [ 2.42065472],\n",
       "       [ 2.99753723],\n",
       "       [ 2.56231805],\n",
       "       [-1.70006753],\n",
       "       [-0.93474885],\n",
       "       [-2.06575298],\n",
       "       [ 0.89472408],\n",
       "       [ 2.95263327],\n",
       "       [ 0.05224725],\n",
       "       [ 1.24577525],\n",
       "       [-0.79280391],\n",
       "       [ 2.10755845],\n",
       "       [-2.08644582],\n",
       "       [-0.0696759 ],\n",
       "       [ 2.63118767],\n",
       "       [ 1.16771086],\n",
       "       [-0.50780764],\n",
       "       [-0.81009061],\n",
       "       [ 2.71613632],\n",
       "       [ 2.65829042],\n",
       "       [-2.11417824],\n",
       "       [ 1.16420919],\n",
       "       [-2.63731214],\n",
       "       [-2.1644609 ],\n",
       "       [-1.81942688],\n",
       "       [ 0.80772927],\n",
       "       [-0.69597608],\n",
       "       [ 1.44555399],\n",
       "       [-2.40372851],\n",
       "       [ 0.14272489],\n",
       "       [ 0.56868001],\n",
       "       [ 0.71009246],\n",
       "       [ 1.62633584],\n",
       "       [-1.08631934],\n",
       "       [ 1.16427071],\n",
       "       [-2.78970296],\n",
       "       [-0.2631457 ],\n",
       "       [-2.3123536 ],\n",
       "       [ 2.67446717],\n",
       "       [-0.47421921],\n",
       "       [ 0.97703226],\n",
       "       [-2.40308346],\n",
       "       [ 2.65047739],\n",
       "       [-2.41841632],\n",
       "       [-0.32252394],\n",
       "       [-2.56417908],\n",
       "       [ 0.30658215]])"
      ]
     },
     "execution_count": 5,
     "metadata": {},
     "output_type": "execute_result"
    }
   ],
   "source": [
    "X"
   ]
  },
  {
   "cell_type": "code",
   "execution_count": 6,
   "metadata": {},
   "outputs": [],
   "source": [
    "from sklearn.preprocessing import PolynomialFeatures"
   ]
  },
  {
   "cell_type": "code",
   "execution_count": 7,
   "metadata": {},
   "outputs": [],
   "source": [
    "poly = PolynomialFeatures(degree=2)\n",
    "poly.fit(X)\n",
    "X2 = poly.transform(X)"
   ]
  },
  {
   "cell_type": "code",
   "execution_count": 8,
   "metadata": {},
   "outputs": [
    {
     "data": {
      "text/plain": [
       "(100, 3)"
      ]
     },
     "execution_count": 8,
     "metadata": {},
     "output_type": "execute_result"
    }
   ],
   "source": [
    "X2.shape"
   ]
  },
  {
   "cell_type": "code",
   "execution_count": 9,
   "metadata": {},
   "outputs": [
    {
     "data": {
      "text/plain": [
       "array([[ 1.        ,  0.65158623,  0.42456462],\n",
       "       [ 1.        , -1.12556293,  1.26689192],\n",
       "       [ 1.        ,  2.69159405,  7.24467853],\n",
       "       [ 1.        , -1.8419411 ,  3.39274701],\n",
       "       [ 1.        , -1.66586348,  2.77510114]])"
      ]
     },
     "execution_count": 9,
     "metadata": {},
     "output_type": "execute_result"
    }
   ],
   "source": [
    "X2[:5,:]"
   ]
  },
  {
   "cell_type": "code",
   "execution_count": 10,
   "metadata": {},
   "outputs": [
    {
     "data": {
      "text/plain": [
       "array([[ 0.65158623],\n",
       "       [-1.12556293],\n",
       "       [ 2.69159405],\n",
       "       [-1.8419411 ],\n",
       "       [-1.66586348]])"
      ]
     },
     "execution_count": 10,
     "metadata": {},
     "output_type": "execute_result"
    }
   ],
   "source": [
    "X[:5,:]"
   ]
  },
  {
   "cell_type": "code",
   "execution_count": 11,
   "metadata": {},
   "outputs": [],
   "source": [
    "from sklearn.linear_model import LinearRegression\n",
    "\n",
    "lin_reg2 = LinearRegression()\n",
    "lin_reg2.fit(X2, y)\n",
    "y_predict2 = lin_reg2.predict(X2)"
   ]
  },
  {
   "cell_type": "code",
   "execution_count": 12,
   "metadata": {},
   "outputs": [
    {
     "data": {
      "text/plain": [
       "[<matplotlib.lines.Line2D at 0x7fadab377f98>]"
      ]
     },
     "execution_count": 12,
     "metadata": {},
     "output_type": "execute_result"
    },
    {
     "data": {
      "image/png": "[encoded data removed]",
      "text/plain": [
       "<matplotlib.figure.Figure at 0x7fadab377fd0>"
      ]
     },
     "metadata": {},
     "output_type": "display_data"
    }
   ],
   "source": [
    "plt.scatter(x, y)\n",
    "plt.plot(np.sort(x), y_predict2[np.argsort(x)], color='r')"
   ]
  },
  {
   "cell_type": "code",
   "execution_count": 13,
   "metadata": {},
   "outputs": [
    {
     "data": {
      "text/plain": [
       "array([0.        , 1.03188444, 0.45562659])"
      ]
     },
     "execution_count": 13,
     "metadata": {},
     "output_type": "execute_result"
    }
   ],
   "source": [
    "lin_reg2.coef_"
   ]
  },
  {
   "cell_type": "code",
   "execution_count": 14,
   "metadata": {},
   "outputs": [
    {
     "data": {
      "text/plain": [
       "2.111937875685487"
      ]
     },
     "execution_count": 14,
     "metadata": {},
     "output_type": "execute_result"
    }
   ],
   "source": [
    "lin_reg2.intercept_"
   ]
  },
  {
   "cell_type": "markdown",
   "metadata": {},
   "source": [
    "# About PolynomialFeatures"
   ]
  },
  {
   "cell_type": "code",
   "execution_count": 15,
   "metadata": {},
   "outputs": [],
   "source": [
    "X = np.arange(1, 11).reshape(-1, 2)"
   ]
  },
  {
   "cell_type": "code",
   "execution_count": 16,
   "metadata": {},
   "outputs": [
    {
     "data": {
      "text/plain": [
       "(5, 2)"
      ]
     },
     "execution_count": 16,
     "metadata": {},
     "output_type": "execute_result"
    }
   ],
   "source": [
    "X.shape"
   ]
  },
  {
   "cell_type": "code",
   "execution_count": 17,
   "metadata": {},
   "outputs": [
    {
     "data": {
      "text/plain": [
       "array([[ 1,  2],\n",
       "       [ 3,  4],\n",
       "       [ 5,  6],\n",
       "       [ 7,  8],\n",
       "       [ 9, 10]])"
      ]
     },
     "execution_count": 17,
     "metadata": {},
     "output_type": "execute_result"
    }
   ],
   "source": [
    "X"
   ]
  },
  {
   "cell_type": "code",
   "execution_count": 18,
   "metadata": {},
   "outputs": [],
   "source": [
    "poly = PolynomialFeatures(degree=2)\n",
    "poly.fit(X)\n",
    "X2 = poly.transform(X)"
   ]
  },
  {
   "cell_type": "code",
   "execution_count": 19,
   "metadata": {},
   "outputs": [
    {
     "data": {
      "text/plain": [
       "(5, 6)"
      ]
     },
     "execution_count": 19,
     "metadata": {},
     "output_type": "execute_result"
    }
   ],
   "source": [
    "X2.shape"
   ]
  },
  {
   "cell_type": "code",
   "execution_count": 20,
   "metadata": {},
   "outputs": [
    {
     "data": {
      "text/plain": [
       "array([[  1.,   1.,   2.,   1.,   2.,   4.],\n",
       "       [  1.,   3.,   4.,   9.,  12.,  16.],\n",
       "       [  1.,   5.,   6.,  25.,  30.,  36.],\n",
       "       [  1.,   7.,   8.,  49.,  56.,  64.],\n",
       "       [  1.,   9.,  10.,  81.,  90., 100.]])"
      ]
     },
     "execution_count": 20,
     "metadata": {},
     "output_type": "execute_result"
    }
   ],
   "source": [
    "X2"
   ]
  },
  {
   "cell_type": "code",
   "execution_count": 21,
   "metadata": {},
   "outputs": [],
   "source": [
    "poly = PolynomialFeatures(degree=3)\n",
    "poly.fit(X)\n",
    "X3 = poly.transform(X)"
   ]
  },
  {
   "cell_type": "code",
   "execution_count": 22,
   "metadata": {},
   "outputs": [
    {
     "data": {
      "text/plain": [
       "(5, 10)"
      ]
     },
     "execution_count": 22,
     "metadata": {},
     "output_type": "execute_result"
    }
   ],
   "source": [
    "X3.shape"
   ]
  },
  {
   "cell_type": "code",
   "execution_count": 23,
   "metadata": {},
   "outputs": [
    {
     "data": {
      "text/plain": [
       "array([[   1.,    1.,    2.,    1.,    2.,    4.,    1.,    2.,    4.,\n",
       "           8.],\n",
       "       [   1.,    3.,    4.,    9.,   12.,   16.,   27.,   36.,   48.,\n",
       "          64.],\n",
       "       [   1.,    5.,    6.,   25.,   30.,   36.,  125.,  150.,  180.,\n",
       "         216.],\n",
       "       [   1.,    7.,    8.,   49.,   56.,   64.,  343.,  392.,  448.,\n",
       "         512.],\n",
       "       [   1.,    9.,   10.,   81.,   90.,  100.,  729.,  810.,  900.,\n",
       "        1000.]])"
      ]
     },
     "execution_count": 23,
     "metadata": {},
     "output_type": "execute_result"
    }
   ],
   "source": [
    "X3"
   ]
  },
  {
   "cell_type": "markdown",
   "metadata": {},
   "source": [
    "## Pipeline  /important"
   ]
  },
  {
   "cell_type": "code",
   "execution_count": 24,
   "metadata": {},
   "outputs": [],
   "source": [
    "x = np.random.uniform(-3, 3,size=100)\n",
    "X = x.reshape(-1, 1)\n",
    "y = 0.5 * x ** 2 + x + 2 + np.random.normal(0, 1, 100)"
   ]
  },
  {
   "cell_type": "code",
   "execution_count": 26,
   "metadata": {},
   "outputs": [],
   "source": [
    "from sklearn.pipeline import Pipeline\n",
    "from sklearn.preprocessing import StandardScaler"
   ]
  },
  {
   "cell_type": "code",
   "execution_count": 27,
   "metadata": {},
   "outputs": [],
   "source": [
    "poly_reg = Pipeline([\n",
    "    (\"poly\", PolynomialFeatures(degree=2)),\n",
    "    (\"std_scaler\", StandardScaler()),\n",
    "    (\"lin_reg\", LinearRegression())\n",
    "])"
   ]
  },
  {
   "cell_type": "code",
   "execution_count": 29,
   "metadata": {},
   "outputs": [],
   "source": [
    "poly_reg.fit(X, y)\n",
    "y_predict = poly_reg.predict(X)"
   ]
  },
  {
   "cell_type": "code",
   "execution_count": 30,
   "metadata": {},
   "outputs": [
    {
     "data": {
      "text/plain": [
       "[<matplotlib.lines.Line2D at 0x7fada93395c0>]"
      ]
     },
     "execution_count": 30,
     "metadata": {},
     "output_type": "execute_result"
    },
    {
     "data": {
      "image/png": "[encoded data removed]",
      "text/plain": [
       "<matplotlib.figure.Figure at 0x7fada9345400>"
      ]
     },
     "metadata": {},
     "output_type": "display_data"
    }
   ],
   "source": [
    "plt.scatter(x, y)\n",
    "plt.plot(np.sort(x), y_predict[np.argsort(x)], color='r')"
   ]
  },
  {
   "cell_type": "code",
   "execution_count": null,
   "metadata": {},
   "outputs": [],
   "source": []
  }
 ],
 "metadata": {
  "kernelspec": {
   "display_name": "Python 3",
   "language": "python",
   "name": "python3"
  },
  "language_info": {
   "codemirror_mode": {
    "name": "ipython",
    "version": 3
   },
   "file_extension": ".py",
   "mimetype": "text/x-python",
   "name": "python",
   "nbconvert_exporter": "python",
   "pygments_lexer": "ipython3",
   "version": "3.5.3"
  }
 },
 "nbformat": 4,
 "nbformat_minor": 2
}
